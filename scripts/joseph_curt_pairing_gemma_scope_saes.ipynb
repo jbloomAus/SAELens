{
 "cells": [
  {
   "cell_type": "code",
   "execution_count": 6,
   "metadata": {},
   "outputs": [],
   "source": []
  },
  {
   "cell_type": "code",
   "execution_count": 41,
   "metadata": {},
   "outputs": [
    {
     "name": "stdout",
     "output_type": "stream",
     "text": [
      "No canonical entries found in gemma-scope-2b-pt-att\n",
      "No canonical entries found in gemma-scope-9b-pt-res\n",
      "No canonical entries found in gemma-scope-9b-pt-mlp\n",
      "No canonical entries found in gemma-scope-9b-pt-att\n",
      "No canonical entries found in gemma-scope-27b-pt-res\n"
     ]
    }
   ],
   "source": [
    "import re\n",
    "import pandas as pd\n",
    "\n",
    "\n",
    "from huggingface_hub import HfApi\n",
    "import os\n",
    "\n",
    "\n",
    "def list_repo_files(repo_id):\n",
    "    api = HfApi()\n",
    "    repo_files = api.list_repo_files(repo_id)\n",
    "    return repo_files\n",
    "\n",
    "\n",
    "files = list_repo_files(repo_id)\n",
    "\n",
    "# print(f\"Files in the repository '{repo_id}':\")\n",
    "# for file in files:\n",
    "#     print(file)\n",
    "\n",
    "\n",
    "def get_details_from_file_path(file_path):\n",
    "    \"\"\"\n",
    "    eg: layer_11/width_16k/average_l0_79\n",
    "\n",
    "    layer = 11\n",
    "    width = 16k\n",
    "    l0_or_canonical = \"79\"\n",
    "\n",
    "    or if layer_11/width_16k/canonical\n",
    "\n",
    "    layer = 11\n",
    "    width = 16k\n",
    "    l0_or_canonical = \"canonical\"\n",
    "\n",
    "    or if layer_11/width_1m/average_l0_79\n",
    "\n",
    "    layer = 11\n",
    "    width = 1m\n",
    "    l0_or_canonical = \"79\"\n",
    "    \"\"\"\n",
    "\n",
    "    layer = re.search(r\"layer_(\\d+)\", file_path).group(1)\n",
    "    width = re.search(r\"width_(\\d+[k|m])\", file_path).group(1)\n",
    "    l0 = re.search(r\"average_l0_(\\d+)\", file_path)\n",
    "    if l0:\n",
    "        l0 = l0.group(1)\n",
    "    else:\n",
    "        l0 = re.search(r\"(canonical)\", file_path).group(1)\n",
    "\n",
    "    return layer, width, l0\n",
    "\n",
    "\n",
    "# # test it\n",
    "# file_path = 'layer_11/width_16k/average_l0_79'\n",
    "# layer, width, l0 = get_details_from_file_path(file_path)\n",
    "# print(f\"layer: {layer}, width: {width}, l0: {l0}\")\n",
    "\n",
    "\n",
    "# file_path = 'layer_11/width_16k/canonical'\n",
    "# layer, width, l0 = get_details_from_file_path(file_path)\n",
    "# print(f\"layer: {layer}, width: {width}, l0: {l0}\")\n",
    "\n",
    "\n",
    "# file_path = 'layer_11/width_1m/canonical'\n",
    "# layer, width, l0 = get_details_from_file_path(file_path)\n",
    "# print(f\"layer: {layer}, width: {width}, l0: {l0}\")\n",
    "\n",
    "\n",
    "def generate_entries(repo_id):\n",
    "    entries = []\n",
    "    files = list_repo_files(repo_id)\n",
    "    for file in files:\n",
    "        if \"params.npz\" in file:\n",
    "            entry = {}\n",
    "            # print(file)\n",
    "            layer, width, l0 = get_details_from_file_path(file)\n",
    "            folder_path = os.path.dirname(file)\n",
    "            entry[\"repo_id\"] = repo_id\n",
    "            entry[\"id\"] = folder_path\n",
    "            entry[\"path\"] = folder_path\n",
    "            entry[\"l0\"] = l0\n",
    "            entry[\"layer\"] = layer\n",
    "            entry[\"width\"] = width\n",
    "\n",
    "            entries.append(entry)\n",
    "    return entries\n",
    "\n",
    "\n",
    "def df_to_yaml(df, file_path, canonical=False):\n",
    "    \"\"\"\n",
    "    EXAMPLE STRUCTURE:\n",
    "\n",
    "    gemma-scope-2b-pt-res:\n",
    "    repo_id: google/gemma-scope-2b-pt-res\n",
    "    model: gemma-2-2b\n",
    "    conversion_func: gemma_2\n",
    "    saes:\n",
    "        - id: layer_11/width_16k/average_l0_79\n",
    "        path: layer_11/width_16k/average_l0_79\n",
    "        l0: 79.0\n",
    "\n",
    "    \"\"\"\n",
    "    repo_id = df.iloc[0][\"repo_id\"]\n",
    "    release_id = (\n",
    "        repo_id.split(\"/\")[1] + \"-canonical\" if canonical else repo_id.split(\"/\")[1]\n",
    "    )\n",
    "    with open(file_path, \"w\") as f:\n",
    "\n",
    "        f.write(f\"{release_id}:\\n\")\n",
    "        f.write(f\"  repo_id: {repo_id}\\n\")\n",
    "        f.write(f\"  model: gemma-2-2b\\n\")\n",
    "        f.write(f\"  conversion_func: gemma_2\\n\")\n",
    "        f.write(f\"  saes:\\n\")\n",
    "        for index, row in df.iterrows():\n",
    "            f.write(f\"    - id: {row['id']}\\n\")\n",
    "            f.write(f\"      path: {row['path']}\\n\")\n",
    "            if row[\"l0\"] != \"canonical\":\n",
    "                f.write(f\"      l0: {row['l0']}\\n\")\n",
    "            # f.write(f\"      l0: {row['l0']}\\n\")\n",
    "            # f.write(f\"      layer: {row['layer']}\\n\")\n",
    "            # f.write(f\"      width: {row['width']}\\n\")\n",
    "            f.write(\"\\n\")\n",
    "\n",
    "\n",
    "repo_ids = [\n",
    "    \"google/gemma-scope-2b-pt-res\",\n",
    "    \"google/gemma-scope-2b-pt-mlp\",\n",
    "    \"google/gemma-scope-2b-pt-att\",\n",
    "    \"google/gemma-scope-9b-pt-res\",\n",
    "    \"google/gemma-scope-9b-pt-mlp\",\n",
    "    \"google/gemma-scope-9b-pt-att\",\n",
    "    \"google/gemma-scope-27b-pt-res\",\n",
    "]\n",
    "\n",
    "for repo_id in repo_ids:\n",
    "\n",
    "    entries = generate_entries(repo_id)\n",
    "\n",
    "    df = pd.DataFrame(entries)\n",
    "    df[\"layer\"] = pd.to_numeric(df[\"layer\"])\n",
    "    df.sort_values(by=[\"width\", \"layer\", \"l0\"], inplace=True)\n",
    "    df.head(30)\n",
    "\n",
    "    canonical_only_df = df[df[\"l0\"] == \"canonical\"]\n",
    "    non_canonical_df = df[df[\"l0\"] != \"canonical\"]\n",
    "\n",
    "    df_to_yaml(\n",
    "        non_canonical_df, f'{repo_id.split(\"/\")[1]}_not_canonical.yaml', canonical=False\n",
    "    )\n",
    "    if canonical_only_df.shape[0] == 0:\n",
    "        print(f\"No canonical entries found in {repo_id.split('/')[1]}\")\n",
    "        continue\n",
    "    else:\n",
    "        df_to_yaml(\n",
    "            canonical_only_df,\n",
    "            f'{repo_id.split(\"/\")[1]}_canonical_only.yaml',\n",
    "            canonical=True,\n",
    "        )\n",
    "\n",
    "    # !cat canonical_only.yaml"
   ]
  },
  {
   "cell_type": "code",
   "execution_count": 5,
   "metadata": {},
   "outputs": [
    {
     "name": "stderr",
     "output_type": "stream",
     "text": [
      "Fetching 369 files:   2%|▏         | 9/369 [00:05<03:54,  1.53it/s]\n"
     ]
    },
    {
     "ename": "KeyboardInterrupt",
     "evalue": "",
     "output_type": "error",
     "traceback": [
      "\u001b[0;31m---------------------------------------------------------------------------\u001b[0m",
      "\u001b[0;31mKeyboardInterrupt\u001b[0m                         Traceback (most recent call last)",
      "Cell \u001b[0;32mIn[5], line 8\u001b[0m\n\u001b[1;32m      4\u001b[0m \u001b[38;5;28;01mfrom\u001b[39;00m \u001b[38;5;21;01mruamel\u001b[39;00m\u001b[38;5;21;01m.\u001b[39;00m\u001b[38;5;21;01myaml\u001b[39;00m\u001b[38;5;21;01m.\u001b[39;00m\u001b[38;5;21;01mcomments\u001b[39;00m \u001b[38;5;28;01mimport\u001b[39;00m CommentedMap\n\u001b[1;32m      5\u001b[0m \u001b[38;5;28;01mfrom\u001b[39;00m \u001b[38;5;21;01mpathlib\u001b[39;00m \u001b[38;5;28;01mimport\u001b[39;00m Path\n\u001b[0;32m----> 8\u001b[0m local_dir \u001b[38;5;241m=\u001b[39m \u001b[43msnapshot_download\u001b[49m\u001b[43m(\u001b[49m\u001b[43mrepo_id\u001b[49m\u001b[43m,\u001b[49m\u001b[43m \u001b[49m\u001b[43muse_auth_token\u001b[49m\u001b[38;5;241;43m=\u001b[39;49m\u001b[38;5;28;43;01mTrue\u001b[39;49;00m\u001b[43m)\u001b[49m\n\u001b[1;32m     10\u001b[0m \u001b[38;5;28mprint\u001b[39m(\u001b[38;5;124mf\u001b[39m\u001b[38;5;124m\"\u001b[39m\u001b[38;5;124mRepository downloaded to: \u001b[39m\u001b[38;5;132;01m{\u001b[39;00mlocal_dir\u001b[38;5;132;01m}\u001b[39;00m\u001b[38;5;124m\"\u001b[39m)\n\u001b[1;32m     12\u001b[0m \u001b[38;5;66;03m# Function to generate entries for the YAML file\u001b[39;00m\n\u001b[1;32m     13\u001b[0m \n\u001b[1;32m     14\u001b[0m \n\u001b[1;32m     15\u001b[0m \u001b[38;5;66;03m# Path to the YAML file\u001b[39;00m\n",
      "File \u001b[0;32m~/SAELens/.venv/lib/python3.11/site-packages/huggingface_hub/utils/_validators.py:114\u001b[0m, in \u001b[0;36mvalidate_hf_hub_args.<locals>._inner_fn\u001b[0;34m(*args, **kwargs)\u001b[0m\n\u001b[1;32m    111\u001b[0m \u001b[38;5;28;01mif\u001b[39;00m check_use_auth_token:\n\u001b[1;32m    112\u001b[0m     kwargs \u001b[38;5;241m=\u001b[39m smoothly_deprecate_use_auth_token(fn_name\u001b[38;5;241m=\u001b[39mfn\u001b[38;5;241m.\u001b[39m\u001b[38;5;18m__name__\u001b[39m, has_token\u001b[38;5;241m=\u001b[39mhas_token, kwargs\u001b[38;5;241m=\u001b[39mkwargs)\n\u001b[0;32m--> 114\u001b[0m \u001b[38;5;28;01mreturn\u001b[39;00m \u001b[43mfn\u001b[49m\u001b[43m(\u001b[49m\u001b[38;5;241;43m*\u001b[39;49m\u001b[43margs\u001b[49m\u001b[43m,\u001b[49m\u001b[43m \u001b[49m\u001b[38;5;241;43m*\u001b[39;49m\u001b[38;5;241;43m*\u001b[39;49m\u001b[43mkwargs\u001b[49m\u001b[43m)\u001b[49m\n",
      "File \u001b[0;32m~/SAELens/.venv/lib/python3.11/site-packages/huggingface_hub/_snapshot_download.py:294\u001b[0m, in \u001b[0;36msnapshot_download\u001b[0;34m(repo_id, repo_type, revision, cache_dir, local_dir, library_name, library_version, user_agent, proxies, etag_timeout, force_download, token, local_files_only, allow_patterns, ignore_patterns, max_workers, tqdm_class, headers, endpoint, local_dir_use_symlinks, resume_download)\u001b[0m\n\u001b[1;32m    292\u001b[0m         _inner_hf_hub_download(file)\n\u001b[1;32m    293\u001b[0m \u001b[38;5;28;01melse\u001b[39;00m:\n\u001b[0;32m--> 294\u001b[0m     \u001b[43mthread_map\u001b[49m\u001b[43m(\u001b[49m\n\u001b[1;32m    295\u001b[0m \u001b[43m        \u001b[49m\u001b[43m_inner_hf_hub_download\u001b[49m\u001b[43m,\u001b[49m\n\u001b[1;32m    296\u001b[0m \u001b[43m        \u001b[49m\u001b[43mfiltered_repo_files\u001b[49m\u001b[43m,\u001b[49m\n\u001b[1;32m    297\u001b[0m \u001b[43m        \u001b[49m\u001b[43mdesc\u001b[49m\u001b[38;5;241;43m=\u001b[39;49m\u001b[38;5;124;43mf\u001b[39;49m\u001b[38;5;124;43m\"\u001b[39;49m\u001b[38;5;124;43mFetching \u001b[39;49m\u001b[38;5;132;43;01m{\u001b[39;49;00m\u001b[38;5;28;43mlen\u001b[39;49m\u001b[43m(\u001b[49m\u001b[43mfiltered_repo_files\u001b[49m\u001b[43m)\u001b[49m\u001b[38;5;132;43;01m}\u001b[39;49;00m\u001b[38;5;124;43m files\u001b[39;49m\u001b[38;5;124;43m\"\u001b[39;49m\u001b[43m,\u001b[49m\n\u001b[1;32m    298\u001b[0m \u001b[43m        \u001b[49m\u001b[43mmax_workers\u001b[49m\u001b[38;5;241;43m=\u001b[39;49m\u001b[43mmax_workers\u001b[49m\u001b[43m,\u001b[49m\n\u001b[1;32m    299\u001b[0m \u001b[43m        \u001b[49m\u001b[38;5;66;43;03m# User can use its own tqdm class or the default one from `huggingface_hub.utils`\u001b[39;49;00m\n\u001b[1;32m    300\u001b[0m \u001b[43m        \u001b[49m\u001b[43mtqdm_class\u001b[49m\u001b[38;5;241;43m=\u001b[39;49m\u001b[43mtqdm_class\u001b[49m\u001b[43m \u001b[49m\u001b[38;5;129;43;01mor\u001b[39;49;00m\u001b[43m \u001b[49m\u001b[43mhf_tqdm\u001b[49m\u001b[43m,\u001b[49m\n\u001b[1;32m    301\u001b[0m \u001b[43m    \u001b[49m\u001b[43m)\u001b[49m\n\u001b[1;32m    303\u001b[0m \u001b[38;5;28;01mif\u001b[39;00m local_dir \u001b[38;5;129;01mis\u001b[39;00m \u001b[38;5;129;01mnot\u001b[39;00m \u001b[38;5;28;01mNone\u001b[39;00m:\n\u001b[1;32m    304\u001b[0m     \u001b[38;5;28;01mreturn\u001b[39;00m \u001b[38;5;28mstr\u001b[39m(os\u001b[38;5;241m.\u001b[39mpath\u001b[38;5;241m.\u001b[39mrealpath(local_dir))\n",
      "File \u001b[0;32m~/SAELens/.venv/lib/python3.11/site-packages/tqdm/contrib/concurrent.py:69\u001b[0m, in \u001b[0;36mthread_map\u001b[0;34m(fn, *iterables, **tqdm_kwargs)\u001b[0m\n\u001b[1;32m     55\u001b[0m \u001b[38;5;250m\u001b[39m\u001b[38;5;124;03m\"\"\"\u001b[39;00m\n\u001b[1;32m     56\u001b[0m \u001b[38;5;124;03mEquivalent of `list(map(fn, *iterables))`\u001b[39;00m\n\u001b[1;32m     57\u001b[0m \u001b[38;5;124;03mdriven by `concurrent.futures.ThreadPoolExecutor`.\u001b[39;00m\n\u001b[0;32m   (...)\u001b[0m\n\u001b[1;32m     66\u001b[0m \u001b[38;5;124;03m    [default: max(32, cpu_count() + 4)].\u001b[39;00m\n\u001b[1;32m     67\u001b[0m \u001b[38;5;124;03m\"\"\"\u001b[39;00m\n\u001b[1;32m     68\u001b[0m \u001b[38;5;28;01mfrom\u001b[39;00m \u001b[38;5;21;01mconcurrent\u001b[39;00m\u001b[38;5;21;01m.\u001b[39;00m\u001b[38;5;21;01mfutures\u001b[39;00m \u001b[38;5;28;01mimport\u001b[39;00m ThreadPoolExecutor\n\u001b[0;32m---> 69\u001b[0m \u001b[38;5;28;01mreturn\u001b[39;00m \u001b[43m_executor_map\u001b[49m\u001b[43m(\u001b[49m\u001b[43mThreadPoolExecutor\u001b[49m\u001b[43m,\u001b[49m\u001b[43m \u001b[49m\u001b[43mfn\u001b[49m\u001b[43m,\u001b[49m\u001b[43m \u001b[49m\u001b[38;5;241;43m*\u001b[39;49m\u001b[43miterables\u001b[49m\u001b[43m,\u001b[49m\u001b[43m \u001b[49m\u001b[38;5;241;43m*\u001b[39;49m\u001b[38;5;241;43m*\u001b[39;49m\u001b[43mtqdm_kwargs\u001b[49m\u001b[43m)\u001b[49m\n",
      "File \u001b[0;32m~/SAELens/.venv/lib/python3.11/site-packages/tqdm/contrib/concurrent.py:51\u001b[0m, in \u001b[0;36m_executor_map\u001b[0;34m(PoolExecutor, fn, *iterables, **tqdm_kwargs)\u001b[0m\n\u001b[1;32m     47\u001b[0m \u001b[38;5;28;01mwith\u001b[39;00m ensure_lock(tqdm_class, lock_name\u001b[38;5;241m=\u001b[39mlock_name) \u001b[38;5;28;01mas\u001b[39;00m lk:\n\u001b[1;32m     48\u001b[0m     \u001b[38;5;66;03m# share lock in case workers are already using `tqdm`\u001b[39;00m\n\u001b[1;32m     49\u001b[0m     \u001b[38;5;28;01mwith\u001b[39;00m PoolExecutor(max_workers\u001b[38;5;241m=\u001b[39mmax_workers, initializer\u001b[38;5;241m=\u001b[39mtqdm_class\u001b[38;5;241m.\u001b[39mset_lock,\n\u001b[1;32m     50\u001b[0m                       initargs\u001b[38;5;241m=\u001b[39m(lk,)) \u001b[38;5;28;01mas\u001b[39;00m ex:\n\u001b[0;32m---> 51\u001b[0m         \u001b[38;5;28;01mreturn\u001b[39;00m \u001b[38;5;28;43mlist\u001b[39;49m\u001b[43m(\u001b[49m\u001b[43mtqdm_class\u001b[49m\u001b[43m(\u001b[49m\u001b[43mex\u001b[49m\u001b[38;5;241;43m.\u001b[39;49m\u001b[43mmap\u001b[49m\u001b[43m(\u001b[49m\u001b[43mfn\u001b[49m\u001b[43m,\u001b[49m\u001b[43m \u001b[49m\u001b[38;5;241;43m*\u001b[39;49m\u001b[43miterables\u001b[49m\u001b[43m,\u001b[49m\u001b[43m \u001b[49m\u001b[43mchunksize\u001b[49m\u001b[38;5;241;43m=\u001b[39;49m\u001b[43mchunksize\u001b[49m\u001b[43m)\u001b[49m\u001b[43m,\u001b[49m\u001b[43m \u001b[49m\u001b[38;5;241;43m*\u001b[39;49m\u001b[38;5;241;43m*\u001b[39;49m\u001b[43mkwargs\u001b[49m\u001b[43m)\u001b[49m\u001b[43m)\u001b[49m\n",
      "File \u001b[0;32m~/SAELens/.venv/lib/python3.11/site-packages/tqdm/std.py:1181\u001b[0m, in \u001b[0;36mtqdm.__iter__\u001b[0;34m(self)\u001b[0m\n\u001b[1;32m   1178\u001b[0m time \u001b[38;5;241m=\u001b[39m \u001b[38;5;28mself\u001b[39m\u001b[38;5;241m.\u001b[39m_time\n\u001b[1;32m   1180\u001b[0m \u001b[38;5;28;01mtry\u001b[39;00m:\n\u001b[0;32m-> 1181\u001b[0m \u001b[43m    \u001b[49m\u001b[38;5;28;43;01mfor\u001b[39;49;00m\u001b[43m \u001b[49m\u001b[43mobj\u001b[49m\u001b[43m \u001b[49m\u001b[38;5;129;43;01min\u001b[39;49;00m\u001b[43m \u001b[49m\u001b[43miterable\u001b[49m\u001b[43m:\u001b[49m\n\u001b[1;32m   1182\u001b[0m \u001b[43m        \u001b[49m\u001b[38;5;28;43;01myield\u001b[39;49;00m\u001b[43m \u001b[49m\u001b[43mobj\u001b[49m\n\u001b[1;32m   1183\u001b[0m \u001b[43m        \u001b[49m\u001b[38;5;66;43;03m# Update and possibly print the progressbar.\u001b[39;49;00m\n\u001b[1;32m   1184\u001b[0m \u001b[43m        \u001b[49m\u001b[38;5;66;43;03m# Note: does not call self.update(1) for speed optimisation.\u001b[39;49;00m\n",
      "File \u001b[0;32m/usr/lib/python3.11/concurrent/futures/_base.py:619\u001b[0m, in \u001b[0;36mExecutor.map.<locals>.result_iterator\u001b[0;34m()\u001b[0m\n\u001b[1;32m    616\u001b[0m \u001b[38;5;28;01mwhile\u001b[39;00m fs:\n\u001b[1;32m    617\u001b[0m     \u001b[38;5;66;03m# Careful not to keep a reference to the popped future\u001b[39;00m\n\u001b[1;32m    618\u001b[0m     \u001b[38;5;28;01mif\u001b[39;00m timeout \u001b[38;5;129;01mis\u001b[39;00m \u001b[38;5;28;01mNone\u001b[39;00m:\n\u001b[0;32m--> 619\u001b[0m         \u001b[38;5;28;01myield\u001b[39;00m \u001b[43m_result_or_cancel\u001b[49m\u001b[43m(\u001b[49m\u001b[43mfs\u001b[49m\u001b[38;5;241;43m.\u001b[39;49m\u001b[43mpop\u001b[49m\u001b[43m(\u001b[49m\u001b[43m)\u001b[49m\u001b[43m)\u001b[49m\n\u001b[1;32m    620\u001b[0m     \u001b[38;5;28;01melse\u001b[39;00m:\n\u001b[1;32m    621\u001b[0m         \u001b[38;5;28;01myield\u001b[39;00m _result_or_cancel(fs\u001b[38;5;241m.\u001b[39mpop(), end_time \u001b[38;5;241m-\u001b[39m time\u001b[38;5;241m.\u001b[39mmonotonic())\n",
      "File \u001b[0;32m/usr/lib/python3.11/concurrent/futures/_base.py:317\u001b[0m, in \u001b[0;36m_result_or_cancel\u001b[0;34m(***failed resolving arguments***)\u001b[0m\n\u001b[1;32m    315\u001b[0m \u001b[38;5;28;01mtry\u001b[39;00m:\n\u001b[1;32m    316\u001b[0m     \u001b[38;5;28;01mtry\u001b[39;00m:\n\u001b[0;32m--> 317\u001b[0m         \u001b[38;5;28;01mreturn\u001b[39;00m \u001b[43mfut\u001b[49m\u001b[38;5;241;43m.\u001b[39;49m\u001b[43mresult\u001b[49m\u001b[43m(\u001b[49m\u001b[43mtimeout\u001b[49m\u001b[43m)\u001b[49m\n\u001b[1;32m    318\u001b[0m     \u001b[38;5;28;01mfinally\u001b[39;00m:\n\u001b[1;32m    319\u001b[0m         fut\u001b[38;5;241m.\u001b[39mcancel()\n",
      "File \u001b[0;32m/usr/lib/python3.11/concurrent/futures/_base.py:451\u001b[0m, in \u001b[0;36mFuture.result\u001b[0;34m(self, timeout)\u001b[0m\n\u001b[1;32m    448\u001b[0m \u001b[38;5;28;01melif\u001b[39;00m \u001b[38;5;28mself\u001b[39m\u001b[38;5;241m.\u001b[39m_state \u001b[38;5;241m==\u001b[39m FINISHED:\n\u001b[1;32m    449\u001b[0m     \u001b[38;5;28;01mreturn\u001b[39;00m \u001b[38;5;28mself\u001b[39m\u001b[38;5;241m.\u001b[39m__get_result()\n\u001b[0;32m--> 451\u001b[0m \u001b[38;5;28;43mself\u001b[39;49m\u001b[38;5;241;43m.\u001b[39;49m\u001b[43m_condition\u001b[49m\u001b[38;5;241;43m.\u001b[39;49m\u001b[43mwait\u001b[49m\u001b[43m(\u001b[49m\u001b[43mtimeout\u001b[49m\u001b[43m)\u001b[49m\n\u001b[1;32m    453\u001b[0m \u001b[38;5;28;01mif\u001b[39;00m \u001b[38;5;28mself\u001b[39m\u001b[38;5;241m.\u001b[39m_state \u001b[38;5;129;01min\u001b[39;00m [CANCELLED, CANCELLED_AND_NOTIFIED]:\n\u001b[1;32m    454\u001b[0m     \u001b[38;5;28;01mraise\u001b[39;00m CancelledError()\n",
      "File \u001b[0;32m/usr/lib/python3.11/threading.py:327\u001b[0m, in \u001b[0;36mCondition.wait\u001b[0;34m(self, timeout)\u001b[0m\n\u001b[1;32m    325\u001b[0m \u001b[38;5;28;01mtry\u001b[39;00m:    \u001b[38;5;66;03m# restore state no matter what (e.g., KeyboardInterrupt)\u001b[39;00m\n\u001b[1;32m    326\u001b[0m     \u001b[38;5;28;01mif\u001b[39;00m timeout \u001b[38;5;129;01mis\u001b[39;00m \u001b[38;5;28;01mNone\u001b[39;00m:\n\u001b[0;32m--> 327\u001b[0m         \u001b[43mwaiter\u001b[49m\u001b[38;5;241;43m.\u001b[39;49m\u001b[43macquire\u001b[49m\u001b[43m(\u001b[49m\u001b[43m)\u001b[49m\n\u001b[1;32m    328\u001b[0m         gotit \u001b[38;5;241m=\u001b[39m \u001b[38;5;28;01mTrue\u001b[39;00m\n\u001b[1;32m    329\u001b[0m     \u001b[38;5;28;01melse\u001b[39;00m:\n",
      "\u001b[0;31mKeyboardInterrupt\u001b[0m: "
     ]
    }
   ],
   "source": [
    "import os\n",
    "from huggingface_hub import snapshot_download\n",
    "from ruamel.yaml import YAML\n",
    "from ruamel.yaml.comments import CommentedMap\n",
    "from pathlib import Path\n",
    "\n",
    "\n",
    "local_dir = snapshot_download(repo_id, use_auth_token=True)\n",
    "\n",
    "print(f\"Repository downloaded to: {local_dir}\")\n",
    "\n",
    "# Function to generate entries for the YAML file\n",
    "\n",
    "\n",
    "# Path to the YAML file\n",
    "yaml_file = \"pretrained_saes.yaml\"\n",
    "\n",
    "# Initialize yamel.yaml\n",
    "yaml = YAML()\n",
    "yaml.preserve_quotes = True\n",
    "yaml.indent(mapping=2, sequence=4, offset=2)\n",
    "\n",
    "# Read the existing YAML file\n",
    "with open(yaml_file, \"r\") as file:\n",
    "    data = yaml.load(file)\n",
    "\n",
    "# Generate new entries\n",
    "new_entries = generate_entries(local_dir)\n",
    "\n",
    "# Create a CommentedMap for gemmascope-2b-pt-res\n",
    "gemmascope_data = CommentedMap()\n",
    "gemmascope_data[\"repo_id\"] = \"gg-hf/gemmascope-2b-pt-res\"\n",
    "gemmascope_data[\"model\"] = \"gemma-2-2b\"\n",
    "gemmascope_data[\"conversion_func\"] = \"gemma_2\"\n",
    "gemmascope_data[\"saes\"] = new_entries\n",
    "\n",
    "# Remove the existing gemmascope-2b-pt-res entry if it exists\n",
    "if \"SAE_LOOKUP\" in data and \"gemmascope-2b-pt-res\" in data[\"SAE_LOOKUP\"]:\n",
    "    del data[\"SAE_LOOKUP\"][\"gemmascope-2b-pt-res\"]\n",
    "\n",
    "# Add gemmascope-2b-pt-res at the end\n",
    "data[\"SAE_LOOKUP\"][\"gemmascope-2b-pt-res\"] = gemmascope_data\n",
    "\n",
    "# Write the updated YAML file\n",
    "with open(yaml_file, \"w\") as file:\n",
    "    yaml.dump(data, file)\n",
    "\n",
    "print(f\"YAML file updated: {yaml_file}\")"
   ]
  },
  {
   "cell_type": "markdown",
   "metadata": {},
   "source": []
  },
  {
   "cell_type": "code",
   "execution_count": 3,
   "metadata": {},
   "outputs": [
    {
     "name": "stderr",
     "output_type": "stream",
     "text": [
      "WARNING:root:You tried to specify center_unembed=True for a model using logit softcap, but this can't be done! Softcapping is not invariant upon adding a constantSetting center_unembed=False instead.\n",
      "Downloading shards: 100%|██████████| 3/3 [00:33<00:00, 11.03s/it]\n",
      "Loading checkpoint shards: 100%|██████████| 3/3 [00:01<00:00,  1.95it/s]\n",
      "WARNING:root:You are not using LayerNorm, so the writing weights can't be centered! Skipping\n"
     ]
    },
    {
     "name": "stdout",
     "output_type": "stream",
     "text": [
      "Loaded pretrained model gemma-2-2b into HookedTransformer\n"
     ]
    }
   ],
   "source": [
    "from sae_lens import HookedSAETransformer, SAE\n",
    "\n",
    "device = \"cuda\"\n",
    "\n",
    "model = HookedSAETransformer.from_pretrained(\"gemma-2-2b\", device=device)\n",
    "\n",
    "# the cfg dict is returned alongside the SAE since it may contain useful information for analysing the SAE (eg: instantiating an activation store)\n",
    "# Note that this is not the same as the SAEs config dict, rather it is whatever was in the HF repo, from which we can extract the SAE config dict\n",
    "# We also return the feature sparsities which are stored in HF for convenience.\n",
    "sae, cfg_dict, sparsity = SAE.from_pretrained(\n",
    "    release=\"gemma-scope-9b-pt-mlp\",  # <- Release name\n",
    "    sae_id=\"layer_2/width_131k/average_l0_12\",  # <- SAE id (not always a hook point!)\n",
    "    device=device,\n",
    ")"
   ]
  },
  {
   "cell_type": "code",
   "execution_count": 4,
   "metadata": {},
   "outputs": [],
   "source": [
    "cache = model.run_with_cache(\"test\")[1]\n",
    "sae_in = cache[sae.cfg.hook_name]"
   ]
  },
  {
   "cell_type": "markdown",
   "metadata": {},
   "source": []
  },
  {
   "cell_type": "code",
   "execution_count": 9,
   "metadata": {},
   "outputs": [
    {
     "data": {
      "text/plain": [
       "True"
      ]
     },
     "execution_count": 9,
     "metadata": {},
     "output_type": "execute_result"
    }
   ],
   "source": [
    "sae.hook_z_reshaping_mode"
   ]
  },
  {
   "cell_type": "code",
   "execution_count": 6,
   "metadata": {},
   "outputs": [
    {
     "data": {
      "text/plain": [
       "torch.Size([1, 2, 8, 256])"
      ]
     },
     "execution_count": 6,
     "metadata": {},
     "output_type": "execute_result"
    }
   ],
   "source": [
    "sae_in.shape"
   ]
  },
  {
   "cell_type": "code",
   "execution_count": 8,
   "metadata": {},
   "outputs": [
    {
     "data": {
      "text/plain": [
       "torch.Size([1, 2, 8, 256])"
      ]
     },
     "execution_count": 8,
     "metadata": {},
     "output_type": "execute_result"
    }
   ],
   "source": [
    "sae(sae_in).shape"
   ]
  }
 ],
 "metadata": {
  "kernelspec": {
   "display_name": ".venv",
   "language": "python",
   "name": "python3"
  },
  "language_info": {
   "codemirror_mode": {
    "name": "ipython",
    "version": 3
   },
   "file_extension": ".py",
   "mimetype": "text/x-python",
   "name": "python",
   "nbconvert_exporter": "python",
   "pygments_lexer": "ipython3",
   "version": "3.11.7"
  }
 },
 "nbformat": 4,
 "nbformat_minor": 2
}
