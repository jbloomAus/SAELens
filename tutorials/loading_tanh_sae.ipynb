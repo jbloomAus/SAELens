{
 "cells": [
  {
   "cell_type": "markdown",
   "metadata": {},
   "source": [
    "# This is only used for evaluation. Training is not yet supported!"
   ]
  },
  {
   "cell_type": "code",
   "execution_count": null,
   "metadata": {},
   "outputs": [],
   "source": [
    "from sae_lens.training.sae import SAE\n",
    "from sae_lens.config import LanguageModelSAERunnerConfig\n",
    "from huggingface_hub import hf_hub_download"
   ]
  },
  {
   "cell_type": "code",
   "execution_count": null,
   "metadata": {},
   "outputs": [],
   "source": [
    "hf_model_id = \"HuFY-dev/tanh_sae\"\n",
    "model_path = hf_hub_download(hf_model_id, \"model.safetensors\")\n",
    "config_path = hf_hub_download(hf_model_id, \"config.json\")"
   ]
  },
  {
   "cell_type": "code",
   "execution_count": null,
   "metadata": {},
   "outputs": [],
   "source": [
    "import json\n",
    "import torch\n",
    "from safetensors import safe_open\n",
    "\n",
    "device = \"cuda\" if torch.cuda.is_available() else \"cpu\"\n",
    "\n",
    "with open(config_path) as f:\n",
    "    config_dict = json.load(f)\n",
    "\n",
    "tensors = {}\n",
    "with safe_open(model_path, framework=\"pt\", device=device) as f:  # type: ignore\n",
    "    for k in f.keys():\n",
    "        tensors[k] = f.get_tensor(k)\n",
    "\n",
    "d_in = config_dict['n_input_features']\n",
    "d_sae = config_dict['n_learned_features']\n",
    "cfg = LanguageModelSAERunnerConfig(\n",
    "        d_in=d_in,\n",
    "        expansion_factor=d_sae//d_in,\n",
    "        normalize_sae_decoder=False,\n",
    "        noise_scale=config_dict['noise_scale'],\n",
    "        model_name=\"gpt2\",\n",
    "        activation_fn=\"tanh-relu\",\n",
    "        hook_name=\"blocks.{layer}.hook_mlp_out\",\n",
    "        hook_layer=list(range(config_dict['n_components'])),  # type: ignore\n",
    "        dtype=\"torch.float32\",\n",
    "        device=device,\n",
    "    )\n",
    "\n",
    "single_sae = SAE.from_dict(cfg.get_base_sae_cfg_dict())\n",
    "with torch.no_grad():\n",
    "    layer = single_sae.cfg.hook_layer\n",
    "    single_sae.W_enc.data = tensors['encoder.weight'].data[layer].T.clone()\n",
    "    single_sae.b_enc.data = tensors['encoder.bias'].data[layer].clone()\n",
    "    single_sae.W_dec.data = tensors['decoder.weight'].data[layer].T.clone()\n",
    "    single_sae.b_dec.data = tensors['post_decoder_bias._bias_reference'].data[layer].clone()"
   ]
  },
  {
   "cell_type": "code",
   "execution_count": null,
   "metadata": {},
   "outputs": [],
   "source": [
    "# Now you should be able to use sae_group\n",
    "single_sae"
   ]
  },
  {
   "cell_type": "markdown",
   "metadata": {},
   "source": [
    "# Small sanity check"
   ]
  },
  {
   "cell_type": "code",
   "execution_count": null,
   "metadata": {},
   "outputs": [],
   "source": [
    "from typing import TypedDict\n",
    "from transformer_lens import HookedTransformer\n",
    "from datasets import load_dataset\n",
    "import torch\n",
    "from torch.utils.data import DataLoader"
   ]
  },
  {
   "cell_type": "code",
   "execution_count": null,
   "metadata": {},
   "outputs": [],
   "source": [
    "model_name = \"gpt2\"\n",
    "model = HookedTransformer.from_pretrained(model_name)"
   ]
  },
  {
   "cell_type": "code",
   "execution_count": null,
   "metadata": {},
   "outputs": [],
   "source": [
    "dataset_path = \"alancooney/sae-monology-pile-uncopyrighted-tokenizer-gpt2\"\n",
    "torch_dataset = load_dataset(dataset_path, split=\"train\", streaming=True).with_format(\"torch\")"
   ]
  },
  {
   "cell_type": "code",
   "execution_count": null,
   "metadata": {},
   "outputs": [],
   "source": [
    "TokenizedPrompt = list[int]\n",
    "\"\"\"A tokenized prompt.\"\"\"\n",
    "\n",
    "\n",
    "class TokenizedPrompts(TypedDict):\n",
    "    \"\"\"Tokenized prompts.\"\"\"\n",
    "\n",
    "    input_ids: list[TokenizedPrompt]\n",
    "    \n",
    "class TorchTokenizedPrompts(TypedDict):\n",
    "    \"\"\"Tokenized prompts prepared for PyTorch.\"\"\"\n",
    "\n",
    "    input_ids: torch.Tensor\n",
    "\n",
    "dl = DataLoader[TorchTokenizedPrompts](\n",
    "            torch_dataset,\n",
    "            batch_size=16,\n",
    "            # Shuffle is most efficiently done with the `shuffle` method on the dataset itself, not\n",
    "            # here.\n",
    "            shuffle=False,\n",
    "            num_workers=1,\n",
    "        )"
   ]
  },
  {
   "cell_type": "code",
   "execution_count": null,
   "metadata": {},
   "outputs": [],
   "source": [
    "saes_by_layer = {}\n",
    "hooked_layers = []\n",
    "for layer in list(range(config_dict['n_components'])):\n",
    "    cfg = LanguageModelSAERunnerConfig(\n",
    "            d_in=d_in,\n",
    "            expansion_factor=d_sae//d_in,\n",
    "            normalize_sae_decoder=False,\n",
    "            noise_scale=config_dict['noise_scale'],\n",
    "            model_name=\"gpt2\",\n",
    "            activation_fn=\"tanh-relu\",\n",
    "            hook_name=f\"blocks.{layer}.hook_mlp_out\",\n",
    "            hook_layer=layer,  # type: ignore\n",
    "            dtype=\"torch.float32\",\n",
    "            device=device,\n",
    "            verbose=False,\n",
    "        )\n",
    "\n",
    "    single_sae = SAE.from_dict(cfg.get_base_sae_cfg_dict())\n",
    "    with torch.no_grad():\n",
    "        layer = single_sae.cfg.hook_layer\n",
    "        single_sae.W_enc.data = tensors['encoder.weight'].data[layer].T.clone()\n",
    "        single_sae.b_enc.data = tensors['encoder.bias'].data[layer].clone()\n",
    "        single_sae.W_dec.data = tensors['decoder.weight'].data[layer].T.clone()\n",
    "        single_sae.b_dec.data = tensors['post_decoder_bias._bias_reference'].data[layer].clone()\n",
    "\n",
    "    saes_by_layer[layer] = single_sae\n",
    "    hooked_layers.append(single_sae.cfg.hook_name)\n",
    "    \n",
    "hooked_layers"
   ]
  },
  {
   "cell_type": "code",
   "execution_count": null,
   "metadata": {},
   "outputs": [],
   "source": [
    "residuals = []\n",
    "for i, batch in enumerate(dl):\n",
    "    if i >= 1:\n",
    "        break\n",
    "    batch_tokens = batch[\"input_ids\"]\n",
    "    _, cache = model.run_with_cache(batch_tokens, prepend_bos=True, names_filter=hooked_layers)\n",
    "    residuals = [cache[layer] for layer in hooked_layers]\n",
    "    del cache"
   ]
  },
  {
   "cell_type": "code",
   "execution_count": null,
   "metadata": {},
   "outputs": [],
   "source": [
    "sae_hooks = [\"hook_sae_acts_post\", \"hook_sae_output\"]\n",
    "for i in range(len(residuals)):\n",
    "    autoencoder = saes_by_layer[i]\n",
    "    _, cache = autoencoder.run_with_cache(residuals[i].to(autoencoder.device), names_filter=sae_hooks)\n",
    "    reconstructed = cache[\"hook_sae_output\"]\n",
    "    feature_act = cache[\"hook_sae_acts_post\"]\n",
    "    l2_loss = torch.nn.functional.mse_loss(residuals[i].to(autoencoder.device), reconstructed)\n",
    "    l1_loss = torch.nn.functional.l1_loss(feature_act, torch.zeros_like(feature_act)) * autoencoder.cfg.d_sae\n",
    "    print(f\"Layer {i}: L2 loss: {l2_loss}, L1 loss: {l1_loss}\")\n",
    "    del cache"
   ]
  },
  {
   "cell_type": "code",
   "execution_count": null,
   "metadata": {},
   "outputs": [],
   "source": []
  },
  {
   "cell_type": "markdown",
   "metadata": {},
   "source": [
    "Pretty similar to the results I got."
   ]
  }
 ],
 "metadata": {
  "kernelspec": {
   "display_name": ".venv",
   "language": "python",
   "name": "python3"
  },
  "language_info": {
   "codemirror_mode": {
    "name": "ipython",
    "version": 3
   },
   "file_extension": ".py",
   "mimetype": "text/x-python",
   "name": "python",
   "nbconvert_exporter": "python",
   "pygments_lexer": "ipython3",
   "version": "3.11.7"
  }
 },
 "nbformat": 4,
 "nbformat_minor": 2
}
